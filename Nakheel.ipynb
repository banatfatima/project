{
  "nbformat": 4,
  "nbformat_minor": 0,
  "metadata": {
    "colab": {
      "provenance": [],
      "authorship_tag": "ABX9TyPWrKHY4Xoa+NQ35zfK0gBf",
      "include_colab_link": true
    },
    "kernelspec": {
      "name": "python3",
      "display_name": "Python 3"
    },
    "language_info": {
      "name": "python"
    }
  },
  "cells": [
    {
      "cell_type": "markdown",
      "metadata": {
        "id": "view-in-github",
        "colab_type": "text"
      },
      "source": [
        "<a href=\"https://colab.research.google.com/github/banatfatima/project/blob/main/Nakheel.ipynb\" target=\"_parent\"><img src=\"https://colab.research.google.com/assets/colab-badge.svg\" alt=\"Open In Colab\"/></a>"
      ]
    },
    {
      "cell_type": "code",
      "source": [
        "import requests\n",
        "from bs4 import BeautifulSoup\n",
        "import re\n",
        "import sqlite3\n",
        "\n",
        "def scrape_nakheel_listings(url):\n",
        "    response = requests.get(url)\n",
        "    html_content = response.content\n",
        "\n",
        "    soup = BeautifulSoup(html_content, 'html.parser')\n",
        "\n",
        "    listings = soup.select('.property-card')\n",
        "\n",
        "    scraped_listings = []\n",
        "\n",
        "    for listing in listings:\n",
        "        property_title = listing.select_one('.property-title').get_text()\n",
        "        property_price = listing.select_one('.property-price').get_text()\n",
        "        property_address = listing.select_one('.property-location').get_text()\n",
        "\n",
        "        scraped_listings.append({\n",
        "            'title': property_title.strip(),\n",
        "            'price': property_price.strip(),\n",
        "            'address': property_address.strip()\n",
        "        })\n",
        "\n",
        "    return scraped_listings\n",
        "\n",
        "def clean_data(listings):\n",
        "    cleaned_listings = []\n",
        "\n",
        "    for listing in listings:\n",
        "        title = re.sub(r'<[^>]+>', '', listing['title']).strip()\n",
        "        price = re.sub(r'[^\\d.]', '', listing['price']).strip()\n",
        "        address = listing['address'].strip()\n",
        "\n",
        "        cleaned_listings.append({\n",
        "            'title': title,\n",
        "            'price': price,\n",
        "            'address': address\n",
        "        })\n",
        "\n",
        "    return cleaned_listings\n",
        "\n",
        "def store_in_database(listings):\n",
        "    connection = sqlite3.connect('nakheel_listings.db')\n",
        "    cursor = connection.cursor()\n",
        "\n",
        "    cursor.execute('CREATE TABLE IF NOT EXISTS nakheel_listings ('\n",
        "                   'Id INTEGER PRIMARY KEY AUTOINCREMENT,'\n",
        "                   'Title TEXT,'\n",
        "                   'Price TEXT,'\n",
        "                   'Address TEXT'\n",
        "                   ')')\n",
        "    connection.commit()\n",
        "\n",
        "    for listing in listings:\n",
        "        cursor.execute('INSERT INTO nakheel_listings (Title, Price, Address) VALUES (?, ?, ?)',\n",
        "                       (listing['title'], listing['price'], listing['address']))\n",
        "        connection.commit()\n",
        "\n",
        "    connection.close()\n",
        "\n",
        "def main():\n",
        "    nakheel_url = 'https://www.nakheel.com/en/properties-for-sale'\n",
        "    scraped_listings = scrape_nakheel_listings(nakheel_url)\n",
        "    cleaned_listings = clean_data(scraped_listings)\n",
        "    store_in_database(cleaned_listings)\n",
        "\n",
        "    # Print the cleaned listings (optional)\n",
        "    print(cleaned_listings)\n",
        "\n",
        "if __name__ == \"__main__\":\n",
        "    main()\n"
      ],
      "metadata": {
        "colab": {
          "base_uri": "https://localhost:8080/"
        },
        "id": "M2LCKGE9YVqY",
        "outputId": "b4af7a87-397e-40b1-d140-1c6596707026"
      },
      "execution_count": 2,
      "outputs": [
        {
          "output_type": "stream",
          "name": "stdout",
          "text": [
            "[]\n"
          ]
        }
      ]
    }
  ]
}